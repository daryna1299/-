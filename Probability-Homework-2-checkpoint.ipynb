{
 "cells": [
  {
   "cell_type": "markdown",
   "metadata": {},
   "source": [
    "# Домашня робота №2"
   ]
  },
  {
   "cell_type": "markdown",
   "metadata": {},
   "source": [
    "## 1 Пароль\n",
    "Напишіть програму (функцію) для генерування випадкового пароля з такими обмеженнями:\n",
    "- пароль складається з рівно $10$ символів\n",
    "- пароль містить хоча б одну маленьку латинську літеру [a-z]\n",
    "- пароль містить хоча б одну велику латинську літеру [A-Z]\n",
    "- пароль містить хоча б одну цифру [0-9]\n",
    "- пароль містить хоча б один спеціальний символ [~!@#$%^&*()-_+=\\/{}[].,?<>:;]"
   ]
  },
  {
   "cell_type": "code",
   "execution_count": 5,
   "metadata": {},
   "outputs": [
    {
     "name": "stdout",
     "output_type": "stream",
     "text": [
      "Q:v5LwcSkW\n"
     ]
    }
   ],
   "source": [
    "# Місце для Вашого коду\n",
    "import numpy as np\n",
    "A=['a', 'b', 'c', 'd', 'e', 'f', 'g', 'h', 'i', 'j', 'k', 'l', 'm', 'n', 'o', 'p', 'q', 'r', 's', 't', 'u', 'v', 'w', 'x', 'y', 'z']\n",
    "B=['A', 'B', 'C', 'D', 'E', 'F', 'G', 'H', 'I', 'J', 'K', 'L', 'M', 'N', 'O', 'P', 'Q', 'R', 'S', 'T', 'U', 'V', 'W', 'X', 'Y', 'Z']\n",
    "C=['0', '1', '2', '3', '4', '5', '6', '7', '8', '9']\n",
    "D=['~', '!', '@', '#', '$', '%', '^', '&', '*', '(', ')', '-', '_', '+', '=', '\\\\', '/', '{', '}', '[', ']', '.', ',', '?', '<', '>', ':', ';']\n",
    "password=[]\n",
    "password+=(list(np.random.choice(A, size=1, replace=True)))\n",
    "password+=(list(np.random.choice(B, size=1, replace=True)))\n",
    "password+=(list(np.random.choice(C, size=1, replace=True)))\n",
    "password+=(list(np.random.choice(D, size=1, replace=True)))\n",
    "password+=(list(np.random.choice(A+B+C+D, size=6, replace=True)))\n",
    "np.random.shuffle(password)\n",
    "password_string=''\n",
    "for i in password:\n",
    "    password_string+=i\n",
    "print(password_string)"
   ]
  },
  {
   "cell_type": "markdown",
   "metadata": {},
   "source": [
    "## 2 Герби в ряд\n",
    "Реалізуйте функцію для обчислення емпіричної та теоретичної імовірностей випадіння $k$ гербів (HEADS) підряд у серії з $n$ підкидань чесної монетки. Підрахуйте відповідні ймовірності для таких параметрів:\n",
    "- $k = 2, n = 10, 50, 100, 500, 1000, 5000, 10000$\n",
    "- $k = 3, n = 10, 50, 100, 500, 1000, 5000, 10000$\n",
    "\n",
    "**Зауваження.** Нехай $k = 2, n = 10$ та маємо таку послідовність результатів підкидання монети: $\\{ H, T, H, H, H, H, T, T, H, T \\}$. Тоді матимемо $3$ випадки випадіння двох гербів підряд та емпіричну ймовірність такої події $1/3$."
   ]
  },
  {
   "cell_type": "code",
   "execution_count": 6,
   "metadata": {},
   "outputs": [
    {
     "name": "stdout",
     "output_type": "stream",
     "text": [
      "[1 1 1 0 1 1 1 0 1 0]\n",
      "0.25 (0, 0.0)\n",
      "[1 0 0 1 0 0 0 0 0 0 1 1 1 0 0 1 0 1 1 1 1 1 0 0 0 0 0 1 0 0 0 1 0 0 1 1 1\n",
      " 1 1 1 1 0 1 0 0 0 0 1 0 1]\n",
      "0.25 (17, 0.3469387755102041)\n",
      "0.25 (18, 0.18181818181818182)\n",
      "0.25 (122, 0.24448897795591182)\n",
      "0.25 (256, 0.25625625625625625)\n",
      "0.25 (1151, 0.23024604920984196)\n",
      "0.25 (2448, 0.2448244824482448)\n",
      "[0 0 1 1 1 1 0 0 0 1]\n",
      "0.125 (1, 0.1111111111111111)\n",
      "[1 0 0 0 1 0 0 1 1 1 1 0 1 0 1 1 0 1 0 1 1 1 1 0 1 1 1 0 1 0 0 1 1 1 1 0 0\n",
      " 0 1 1 1 0 0 1 1 0 1 0 1 0]\n",
      "0.125 (2, 0.04081632653061224)\n",
      "0.125 (8, 0.08080808080808081)\n",
      "0.125 (69, 0.13827655310621242)\n",
      "0.125 (135, 0.13513513513513514)\n",
      "0.125 (625, 0.1250250050010002)\n",
      "0.125 (1192, 0.11921192119211921)\n"
     ]
    }
   ],
   "source": [
    "# Місце для Вашого коду\n",
    "import numpy as np\n",
    "def probability(n, k):\n",
    "        return((1/2**k))\n",
    "def emp_probability(n, k):\n",
    "    choose_k=(np.random.choice([0, 1], size=n, replace=True))\n",
    "    if n<=50:\n",
    "        print(choose_k)\n",
    "    t=0\n",
    "    for i in range(k-1, n):\n",
    "                    Flag=True\n",
    "                    for j in range (k):\n",
    "                         if choose_k[i-j]!=0:\n",
    "                            Flag=False\n",
    "                            break\n",
    "\n",
    "                    if Flag==True:\n",
    "                        t+=1\n",
    "\n",
    "\n",
    "    return(t, t/(n-1))\n",
    "ks=[2, 3]\n",
    "ns=[10, 50, 100, 500, 1000, 5000, 10000]\n",
    "for k in ks:\n",
    "    for n in ns:\n",
    "        print(probability(n, k), emp_probability(n, k))\n",
    "\n"
   ]
  },
  {
   "cell_type": "markdown",
   "metadata": {},
   "source": [
    "## 3 Найбільше число\n",
    "Реалізуйте функцію підрахунку точної (теоретичної) імовірності того, що максимальне число після $n$ кидків звичайного грального кубика дорівнює $x\\_max$, для таких параметрів:\n",
    "- $n = 3, x\\_max = 6$\n",
    "- $n = 2, x\\_max = 3$\n",
    "- $n = 3, x\\_max = 5$\n",
    "\n",
    "Тобто, якщо $X_i, i = 1, \\ldots, n$, - число на $i$-му кидку кубика, а $X = \\max\\limits_{1 \\leq i \\leq n} X_i$, то потрібно знайти ймовірність $\\textbf{P} \\left( X = x\\_max \\right)$.\n",
    "\n",
    "Підрахуйте також емпіричні ймовірності відповідних подій у випадку $10000$ симуляцій.\n",
    "\n",
    "**Зауваження.** Якщо введені параметри не мають сенсу, то повертати $0$.\n",
    "Тобто, якщо вводиться $x\\_max < 1$ або $x\\_max > 6$."
   ]
  },
  {
   "cell_type": "code",
   "execution_count": 8,
   "metadata": {},
   "outputs": [
    {
     "name": "stdout",
     "output_type": "stream",
     "text": [
      "(1, 1, 6)\n",
      "(1, 2, 6)\n",
      "(1, 3, 6)\n",
      "(1, 4, 6)\n",
      "(1, 5, 6)\n",
      "(1, 6, 6)\n",
      "(2, 2, 6)\n",
      "(2, 3, 6)\n",
      "(2, 4, 6)\n",
      "(2, 5, 6)\n",
      "(2, 6, 6)\n",
      "(3, 3, 6)\n",
      "(3, 4, 6)\n",
      "(3, 5, 6)\n",
      "(3, 6, 6)\n",
      "(4, 4, 6)\n",
      "(4, 5, 6)\n",
      "(4, 6, 6)\n",
      "(5, 5, 6)\n",
      "(5, 6, 6)\n",
      "(6, 6, 6)\n",
      "(21, 0.375) (419, 0.419)\n",
      "(1, 3)\n",
      "(2, 3)\n",
      "(3, 3)\n",
      "(3, 0.14285714285714285) (137, 0.137)\n",
      "(1, 1, 5)\n",
      "(1, 2, 5)\n",
      "(1, 3, 5)\n",
      "(1, 4, 5)\n",
      "(1, 5, 5)\n",
      "(2, 2, 5)\n",
      "(2, 3, 5)\n",
      "(2, 4, 5)\n",
      "(2, 5, 5)\n",
      "(3, 3, 5)\n",
      "(3, 4, 5)\n",
      "(3, 5, 5)\n",
      "(4, 4, 5)\n",
      "(4, 5, 5)\n",
      "(5, 5, 5)\n",
      "(15, 0.26785714285714285) (264, 0.264)\n"
     ]
    }
   ],
   "source": [
    "# Місце для Вашого коду\n",
    "from itertools import combinations_with_replacement\n",
    "def probability(n, s):\n",
    "    A=list(range(1, 7))\n",
    "    if (s<1) or (s>6):\n",
    "        return(0)\n",
    "    else:\n",
    "        choose_k = list(combinations_with_replacement(A,n))\n",
    "        #print(\"Комбінації довжини {} множини {}: {}\".format(n,A,choose_k))\n",
    "    t=0\n",
    "    for i in choose_k:\n",
    "        if max(i)==s:\n",
    "            t+=1\n",
    "            print(i)\n",
    "    return(t, t/len(choose_k))\n",
    "def emp_probability(n, s, q):\n",
    "    r=0\n",
    "    for i in range (q):\n",
    "        if max(list(np.random.choice(list(range(1, 7)), size=n, replace=True)))==s:\n",
    "               r+=1\n",
    "    return((r, r/q))\n",
    "    \n",
    "print(probability(3, 6), emp_probability(3, 6, 1000))\n",
    "print(probability(2, 3), emp_probability(2, 3, 1000))\n",
    "print(probability(3, 5), emp_probability(3, 5, 1000))"
   ]
  },
  {
   "cell_type": "markdown",
   "metadata": {},
   "source": [
    "## 4 Сума чисел\n",
    "Реалізуйте функцію підрахунку точної (теоретичної) імовірності того, що сума чисел після $n$ кидків звичайного грального кубика дорівнює $s$, для таких параметрів:\n",
    "- $n = 3, s = 13$\n",
    "- $n = 2, s = 5$\n",
    "- $n = 3, s = 7$\n",
    "\n",
    "Тобто, якщо $X_i, i = 1, \\ldots, n$, - число на $i$-му кидку кубика, а $X = \\sum\\limits_{i = 1}^{n} X_i$, то потрібно знайти ймовірність $\\textbf{P} \\left( X = s \\right)$.\n",
    "\n",
    "Підрахуйте також емпіричні ймовірності відповідних подій у випадку $10000$ симуляцій.\n",
    "\n",
    "**Зауваження.** Якщо введені параметри не мають сенсу, то повертати $0$.\n",
    "Наприклад, якщо при $n = 3$ вводиться $s < 3$ або $s > 18$."
   ]
  },
  {
   "cell_type": "code",
   "execution_count": 7,
   "metadata": {},
   "outputs": [
    {
     "name": "stdout",
     "output_type": "stream",
     "text": [
      "(1, 6, 6)\n",
      "(2, 5, 6)\n",
      "(3, 4, 6)\n",
      "(3, 5, 5)\n",
      "(4, 4, 5)\n",
      "(5, 0.08928571428571429) (105, 0.105)\n",
      "(1, 4)\n",
      "(2, 3)\n",
      "(2, 0.09523809523809523) (115, 0.115)\n",
      "(1, 1, 5)\n",
      "(1, 2, 4)\n",
      "(1, 3, 3)\n",
      "(2, 2, 3)\n",
      "(4, 0.07142857142857142) (84, 0.084)\n"
     ]
    }
   ],
   "source": [
    "# Місце для Вашого коду\n",
    "\n",
    "from itertools import combinations_with_replacement\n",
    "def probability(n, s):\n",
    "    A=list(range(1, 7))\n",
    "    if (s<n) or (s>n*6):\n",
    "        return(0)\n",
    "    else:\n",
    "        choose_k = list(combinations_with_replacement(A,n))\n",
    "        #print(\"Комбінації довжини {} множини {}: {}\".format(n,A,choose_k))\n",
    "    t=0\n",
    "    for i in choose_k:\n",
    "        if sum(i)==s:\n",
    "            t+=1\n",
    "            print(i)\n",
    "    return(t, t/len(choose_k))\n",
    "def emp_probability(n, s, q):\n",
    "    r=0\n",
    "    for i in range (q):\n",
    "        if sum(list(np.random.choice(list(range(1, 7)), size=n, replace=True)))==s:\n",
    "               r+=1\n",
    "    return((r, r/q))\n",
    "    \n",
    "print(probability(3, 13), emp_probability(3, 13, 1000))\n",
    "print(probability(2, 5), emp_probability(2, 5, 1000))\n",
    "print(probability(3, 7), emp_probability(3, 7, 1000))"
   ]
  },
  {
   "cell_type": "code",
   "execution_count": null,
   "metadata": {},
   "outputs": [],
   "source": []
  }
 ],
 "metadata": {
  "kernelspec": {
   "display_name": "Python 3",
   "language": "python",
   "name": "python3"
  },
  "language_info": {
   "codemirror_mode": {
    "name": "ipython",
    "version": 3
   },
   "file_extension": ".py",
   "mimetype": "text/x-python",
   "name": "python",
   "nbconvert_exporter": "python",
   "pygments_lexer": "ipython3",
   "version": "3.7.1"
  }
 },
 "nbformat": 4,
 "nbformat_minor": 1
}
